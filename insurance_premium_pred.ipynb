{
 "cells": [
  {
   "cell_type": "code",
   "execution_count": 3,
   "id": "038e5cfa-912c-404f-ae48-6d31480aa549",
   "metadata": {},
   "outputs": [],
   "source": [
    "import pandas as pd\n",
    "import numpy as np\n",
    "\n",
    "from sklearn.model_selection import train_test_split"
   ]
  },
  {
   "cell_type": "code",
   "execution_count": 4,
   "id": "dfce5f0d-aa75-4a01-8a06-1d4688ea69dd",
   "metadata": {},
   "outputs": [],
   "source": [
    "train_df = pd.read_csv('playground-series-s4e12/train.csv')\n",
    "test_df = pd.read_csv('playground-series-s4e12/test.csv')"
   ]
  },
  {
   "cell_type": "code",
   "execution_count": 5,
   "id": "0e7f9d94-4cc0-493c-ba05-733ba12aadb2",
   "metadata": {},
   "outputs": [
    {
     "data": {
      "text/plain": [
       "((1200000, 21), (800000, 20))"
      ]
     },
     "execution_count": 5,
     "metadata": {},
     "output_type": "execute_result"
    }
   ],
   "source": [
    "train_df.shape, test_df.shape"
   ]
  },
  {
   "cell_type": "code",
   "execution_count": null,
   "id": "47a9788e-cbe3-4205-96ae-84a2abd09d4b",
   "metadata": {},
   "outputs": [],
   "source": []
  }
 ],
 "metadata": {
  "kernelspec": {
   "display_name": "Python 3 (ipykernel)",
   "language": "python",
   "name": "python3"
  },
  "language_info": {
   "codemirror_mode": {
    "name": "ipython",
    "version": 3
   },
   "file_extension": ".py",
   "mimetype": "text/x-python",
   "name": "python",
   "nbconvert_exporter": "python",
   "pygments_lexer": "ipython3",
   "version": "3.9.6"
  }
 },
 "nbformat": 4,
 "nbformat_minor": 5
}
